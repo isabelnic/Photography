{
 "cells": [
  {
   "cell_type": "code",
   "execution_count": null,
   "metadata": {},
   "outputs": [],
   "source": [
    "import numpy as np\n",
    "import matplotlib.pyplot as plt\n",
    "import matplotlib.animation as animation"
   ]
  },
  {
   "cell_type": "code",
   "execution_count": null,
   "metadata": {},
   "outputs": [],
   "source": [
    "grid_size = 100 # square grid\n",
    "num_steps = 1000"
   ]
  },
  {
   "cell_type": "code",
   "execution_count": null,
   "metadata": {},
   "outputs": [],
   "source": [
    "# Function to simulate Brownian motion\n",
    "def brownian_motion(num_steps):\n",
    "    position = np.zeros((num_steps, 2))  # Initialize position array\n",
    "    for i in range(1, num_steps):\n",
    "        # Generate random increments\n",
    "        dx, dy = np.random.normal(0, 1, size=2)\n",
    "        # Update position\n",
    "        position[i] = position[i - 1] + [dx, dy]\n",
    "    return position\n",
    "\n",
    "# Initialize plot\n",
    "fig, ax = plt.subplots()\n",
    "ax.set_xlim(0, grid_size)\n",
    "ax.set_ylim(0, grid_size)\n",
    "line, = ax.plot([], [], lw=2)\n",
    "\n",
    "# Function to initialize plot\n",
    "def init():\n",
    "    line.set_data([], [])\n",
    "    return line,\n",
    "\n",
    "# Function to update plot\n",
    "def update(frame):\n",
    "    xdata = frame[:, 0]\n",
    "    ydata = frame[:, 1]\n",
    "    line.set_data(xdata, ydata)\n",
    "    return line,\n",
    "\n",
    "# Generate Brownian motion data\n",
    "data = brownian_motion(num_steps)\n",
    "\n",
    "# Create animation\n",
    "ani = animation.FuncAnimation(fig, update, frames=data, init_func=init, blit=True)\n",
    "\n",
    "# Show plot\n",
    "plt.title('2D Brownian Motion')\n",
    "plt.xlabel('X Position')\n",
    "plt.ylabel('Y Position')\n",
    "plt.show()\n"
   ]
  },
  {
   "cell_type": "code",
   "execution_count": null,
   "metadata": {},
   "outputs": [],
   "source": []
  },
  {
   "cell_type": "code",
   "execution_count": null,
   "metadata": {},
   "outputs": [],
   "source": []
  },
  {
   "cell_type": "code",
   "execution_count": null,
   "metadata": {},
   "outputs": [],
   "source": []
  },
  {
   "cell_type": "code",
   "execution_count": null,
   "metadata": {},
   "outputs": [],
   "source": []
  }
 ],
 "metadata": {
  "language_info": {
   "name": "python"
  }
 },
 "nbformat": 4,
 "nbformat_minor": 2
}
